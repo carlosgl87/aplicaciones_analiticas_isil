{
 "cells": [
  {
   "cell_type": "markdown",
   "metadata": {},
   "source": [
    "**PREGUNTA 1**  \n",
    "Escribe una función que permita pasar de metros a millas. Los argumentos de la función deberán de ser dos: un número y una letra: 'me' (cuando el número se refiere a metros) y 'mi' (cuando el numero se refiere a millas)"
   ]
  },
  {
   "cell_type": "code",
   "execution_count": 1,
   "metadata": {
    "collapsed": true
   },
   "outputs": [],
   "source": [
    "def convertir(num,tipo):\n",
    "    if tipo == 'me':\n",
    "        print '{} metros son {} millas'.format(num,num / 1609.344)\n",
    "    elif tipo == 'mi':\n",
    "        print '{} millas son {} metros'.format(num,num * 1609.344)\n",
    "    else:\n",
    "        print 'Error en tipo'"
   ]
  },
  {
   "cell_type": "code",
   "execution_count": 4,
   "metadata": {
    "collapsed": false
   },
   "outputs": [
    {
     "name": "stdout",
     "output_type": "stream",
     "text": [
      "10009 metros son 6.2193042631 millas\n"
     ]
    }
   ],
   "source": [
    "convertir(10009,'me')"
   ]
  },
  {
   "cell_type": "markdown",
   "metadata": {},
   "source": [
    "**PREGUNTA 2**  \n",
    "Crea dos listas de numeros aleatorios que tengan el mismo largo. Luego crea una nueva lista que multiplique los valores de cada una de las listas uno a uno."
   ]
  },
  {
   "cell_type": "code",
   "execution_count": 11,
   "metadata": {
    "collapsed": false
   },
   "outputs": [
    {
     "name": "stdout",
     "output_type": "stream",
     "text": [
      "[2, 6, 4, 9]\n",
      "[6, 1, 5, 8]\n",
      "[12, 6, 20, 72]\n"
     ]
    }
   ],
   "source": [
    "## Puede crear listas aleatorias del mismo porte\n",
    "#import random\n",
    "#lista1 = random.sample(range(1, 100), 3)\n",
    "#print lista1\n",
    "#lista2 = random.sample(range(1, 100), 3)\n",
    "#print lista2\n",
    "\n",
    "## O pueden ustedes darle los valores a las listas\n",
    "lista1 = [2,6,4,9]\n",
    "print lista1\n",
    "lista2 = [6,1,5,8]\n",
    "print lista2\n",
    "\n",
    "lista3 = []\n",
    "for i in range(len(lista1)):\n",
    "    lista3.append(lista1[i]*lista2[i])\n",
    "print lista3"
   ]
  },
  {
   "cell_type": "markdown",
   "metadata": {},
   "source": [
    "**PREGUNTA 3**  \n",
    "Escribe una funcion que construya el patron siguiente, usando loops  \n",
    "  \n",
    "\\*  \n",
    "\\+ \\+   \n",
    "\\* \\* \\*   \n",
    "\\+ \\+ \\+ \\+   \n",
    "\\* \\* \\* \\* \\*   \n",
    "\\+ \\+ \\+ \\+   \n",
    "\\* \\* \\*   \n",
    "\\+ \\+   \n",
    "\\*  "
   ]
  },
  {
   "cell_type": "code",
   "execution_count": 20,
   "metadata": {
    "collapsed": false
   },
   "outputs": [
    {
     "name": "stdout",
     "output_type": "stream",
     "text": [
      "\n",
      "*\n",
      "++\n",
      "***\n",
      "++++\n",
      "*****\n",
      "++++\n",
      "***\n",
      "++\n",
      "*\n"
     ]
    }
   ],
   "source": [
    "n=5\n",
    "for i in range(n):\n",
    "    if i % 2 == 0:\n",
    "        print '+'*i\n",
    "    else:\n",
    "        print '*'*i\n",
    "\n",
    "for i in range(n,0,-1):\n",
    "    if i % 2 == 0:\n",
    "        print '+'*i\n",
    "    else:\n",
    "        print '*'*i"
   ]
  },
  {
   "cell_type": "markdown",
   "metadata": {},
   "source": [
    "**PREGUNTA 4**  \n",
    "Dado una lista, crea una función que tome como argumento dicha lista y el resultado sea la suma de los dos primeros numeros de la lista y los dos ultimos numeros de la lista"
   ]
  },
  {
   "cell_type": "code",
   "execution_count": 21,
   "metadata": {
    "collapsed": true
   },
   "outputs": [],
   "source": [
    "def sumar_lista(lista1):\n",
    "    return lista1[0] + lista1[1] + lista1[-1] + lista1[-2]"
   ]
  },
  {
   "cell_type": "code",
   "execution_count": 22,
   "metadata": {
    "collapsed": false
   },
   "outputs": [
    {
     "data": {
      "text/plain": [
       "13"
      ]
     },
     "execution_count": 22,
     "metadata": {},
     "output_type": "execute_result"
    }
   ],
   "source": [
    "lista = [2,3,5,4,7,8,1,2,3,5]\n",
    "sumar_lista(lista)"
   ]
  },
  {
   "cell_type": "markdown",
   "metadata": {},
   "source": [
    "**PREGUNTA 5**  \n",
    "Desarrolla una función que ordene de manera descendente una lista "
   ]
  },
  {
   "cell_type": "code",
   "execution_count": 38,
   "metadata": {
    "collapsed": true
   },
   "outputs": [],
   "source": [
    "def ordenar_desc(lista):\n",
    "    return sorted(lista, reverse=True)"
   ]
  },
  {
   "cell_type": "code",
   "execution_count": 39,
   "metadata": {
    "collapsed": false
   },
   "outputs": [
    {
     "data": {
      "text/plain": [
       "[9, 7, 5, 4, 2, 2, 1]"
      ]
     },
     "execution_count": 39,
     "metadata": {},
     "output_type": "execute_result"
    }
   ],
   "source": [
    "lista1 = [2,5,4,7,2,9,1]\n",
    "ordenar_desc(lista1)"
   ]
  },
  {
   "cell_type": "markdown",
   "metadata": {},
   "source": [
    "**PREGUNTA 6**  \n",
    "Usando \"list comprehension\", escribe un programa que tenga como inputs una lista y el resultado sea otra lista pero solo de los numeros pares"
   ]
  },
  {
   "cell_type": "code",
   "execution_count": 51,
   "metadata": {
    "collapsed": false
   },
   "outputs": [],
   "source": [
    "def lista_pares(lista):\n",
    "    return [item for item in lista if item%2==0]"
   ]
  },
  {
   "cell_type": "code",
   "execution_count": 52,
   "metadata": {
    "collapsed": false
   },
   "outputs": [
    {
     "data": {
      "text/plain": [
       "[2, 4, 2]"
      ]
     },
     "execution_count": 52,
     "metadata": {},
     "output_type": "execute_result"
    }
   ],
   "source": [
    "lista1 = [2,5,4,7,2,9,1]\n",
    "lista_pares(lista1)"
   ]
  },
  {
   "cell_type": "markdown",
   "metadata": {},
   "source": [
    "**PREGUNTA 7**  \n",
    "Crea una función que tenga como argumentos dos listas. La función debe de retornar un diccionario, donde los valores de la primera lista sean las llaves del diccionario y los valores de la segunda lista sean los valores para cada una de las llaves (las listas deben de ser del mismo tamaño). "
   ]
  },
  {
   "cell_type": "code",
   "execution_count": 53,
   "metadata": {
    "collapsed": true
   },
   "outputs": [],
   "source": [
    "def crear_dict(lista1,lista2):\n",
    "    dict1 = {}\n",
    "    for i in range(len(lista1)):\n",
    "        dict1[lista1[i]] = lista2[i]\n",
    "    return dict1"
   ]
  },
  {
   "cell_type": "code",
   "execution_count": 54,
   "metadata": {
    "collapsed": false
   },
   "outputs": [
    {
     "name": "stdout",
     "output_type": "stream",
     "text": [
      "[2, 6, 4, 9]\n",
      "[6, 1, 5, 8]\n"
     ]
    },
    {
     "data": {
      "text/plain": [
       "{2: 6, 4: 5, 6: 1, 9: 8}"
      ]
     },
     "execution_count": 54,
     "metadata": {},
     "output_type": "execute_result"
    }
   ],
   "source": [
    "lista1 = [2,6,4,9]\n",
    "print lista1\n",
    "lista2 = [6,1,5,8]\n",
    "print lista2\n",
    "crear_dict(lista1,lista2)"
   ]
  },
  {
   "cell_type": "markdown",
   "metadata": {},
   "source": [
    "**PREGUNTA 8**\n",
    "- Dado el siguiente diccionario:  \n",
    "  \n",
    "inventory = {  \n",
    "    'paises' : ['peru','chile','colombia','argentina'],  \n",
    "    'capitales' : ['lima', 'santiago','bogota','buenos aires'],  \n",
    "    'monedas' : ['sol','peso chileno', 'peso colombiano','peso argentino']  \n",
    "}\n",
    "\n",
    "    - Añade un key llamado \"presidentes\" cuyos valores serán 'ppk','Bachelet','Santos','Macri'\n",
    "    - Realiza un sort de los items dentro de la llave paises\n",
    "    - Añade el valor de 'bolivia' a la llave pais\n",
    "    - Añade el valor de 'evo' a la llave presidentes"
   ]
  },
  {
   "cell_type": "code",
   "execution_count": 56,
   "metadata": {
    "collapsed": true
   },
   "outputs": [],
   "source": [
    "inventory = {}\n",
    "inventory['paises'] = ['peru','chile','colombia','argentina']\n",
    "inventory['capitales'] = ['lima', 'santiago','bogota','buenos aires']\n",
    "inventory['monedas'] = ['sol','peso chileno', 'peso colombiano','peso argentino']"
   ]
  },
  {
   "cell_type": "code",
   "execution_count": 57,
   "metadata": {
    "collapsed": true
   },
   "outputs": [],
   "source": [
    "inventory['presidentes'] = ['Ppk','Bachelet','Santos','Macri']"
   ]
  },
  {
   "cell_type": "code",
   "execution_count": 58,
   "metadata": {
    "collapsed": true
   },
   "outputs": [],
   "source": [
    "l1 = inventory['paises']\n",
    "l1.sort()\n",
    "inventory['paises'] = l1"
   ]
  },
  {
   "cell_type": "code",
   "execution_count": 59,
   "metadata": {
    "collapsed": true
   },
   "outputs": [],
   "source": [
    "inventory['presidentes'].append('Evo')"
   ]
  },
  {
   "cell_type": "code",
   "execution_count": 60,
   "metadata": {
    "collapsed": false
   },
   "outputs": [
    {
     "data": {
      "text/plain": [
       "{'capitales': ['lima', 'santiago', 'bogota', 'buenos aires'],\n",
       " 'monedas': ['sol', 'peso chileno', 'peso colombiano', 'peso argentino'],\n",
       " 'paises': ['argentina', 'chile', 'colombia', 'peru'],\n",
       " 'presidentes': ['Ppk', 'Bachelet', 'Santos', 'Macri', 'Evo']}"
      ]
     },
     "execution_count": 60,
     "metadata": {},
     "output_type": "execute_result"
    }
   ],
   "source": [
    "inventory"
   ]
  },
  {
   "cell_type": "markdown",
   "metadata": {
    "collapsed": true
   },
   "source": [
    "**PREGUNTA 9**  \n",
    "Escribe una funcion cuyo argumento sea una lista. Tome el primer elemento y le reste los restantes"
   ]
  },
  {
   "cell_type": "code",
   "execution_count": 61,
   "metadata": {
    "collapsed": true
   },
   "outputs": [],
   "source": [
    "def restar_lista(lista):\n",
    "    valor_inicial = lista[0]\n",
    "    valor_suma = 0\n",
    "    for i in range(1,len(lista)):\n",
    "        valor_suma = valor_suma + lista[i]\n",
    "    return valor_inicial - valor_suma"
   ]
  },
  {
   "cell_type": "code",
   "execution_count": 65,
   "metadata": {
    "collapsed": false
   },
   "outputs": [
    {
     "data": {
      "text/plain": [
       "3"
      ]
     },
     "execution_count": 65,
     "metadata": {},
     "output_type": "execute_result"
    }
   ],
   "source": [
    "lista2 = [20,2,6,1,7,1]\n",
    "restar_lista(lista2)"
   ]
  },
  {
   "cell_type": "markdown",
   "metadata": {
    "collapsed": true
   },
   "source": [
    "**PREGUNTA 10**  \n",
    "Escribe una funcion que halle el numero más grande de una lista"
   ]
  },
  {
   "cell_type": "code",
   "execution_count": 68,
   "metadata": {
    "collapsed": true
   },
   "outputs": [],
   "source": [
    "def hallar_max(lista):\n",
    "    return max(lista)"
   ]
  },
  {
   "cell_type": "code",
   "execution_count": 70,
   "metadata": {
    "collapsed": false
   },
   "outputs": [
    {
     "data": {
      "text/plain": [
       "7"
      ]
     },
     "execution_count": 70,
     "metadata": {},
     "output_type": "execute_result"
    }
   ],
   "source": [
    "lista2 = [2,6,1,7,1]\n",
    "hallar_max(lista2)"
   ]
  }
 ],
 "metadata": {
  "kernelspec": {
   "display_name": "Python 2",
   "language": "python",
   "name": "python2"
  },
  "language_info": {
   "codemirror_mode": {
    "name": "ipython",
    "version": 2
   },
   "file_extension": ".py",
   "mimetype": "text/x-python",
   "name": "python",
   "nbconvert_exporter": "python",
   "pygments_lexer": "ipython2",
   "version": "2.7.13"
  }
 },
 "nbformat": 4,
 "nbformat_minor": 0
}
