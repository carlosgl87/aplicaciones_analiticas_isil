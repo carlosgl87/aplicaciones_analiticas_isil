{
 "cells": [
  {
   "cell_type": "markdown",
   "metadata": {
    "collapsed": true
   },
   "source": [
    "## Importa las librerias necesarias"
   ]
  },
  {
   "cell_type": "code",
   "execution_count": 5,
   "metadata": {
    "collapsed": false
   },
   "outputs": [],
   "source": [
    "import pandas as pd\n",
    "%matplotlib inline     "
   ]
  },
  {
   "cell_type": "markdown",
   "metadata": {
    "collapsed": true
   },
   "source": [
    "## Importa la base de datos: temperature_lima.csv"
   ]
  },
  {
   "cell_type": "code",
   "execution_count": 6,
   "metadata": {
    "collapsed": true
   },
   "outputs": [],
   "source": [
    "df_temp = pd.read_csv('data/temperature_lima.csv')"
   ]
  },
  {
   "cell_type": "markdown",
   "metadata": {
    "collapsed": true
   },
   "source": [
    "## Explora la Base de Datos"
   ]
  },
  {
   "cell_type": "markdown",
   "metadata": {},
   "source": [
    "### Cuantas filas y columnas tiene la base de datos"
   ]
  },
  {
   "cell_type": "code",
   "execution_count": 7,
   "metadata": {
    "collapsed": false
   },
   "outputs": [
    {
     "data": {
      "text/plain": [
       "(360, 10)"
      ]
     },
     "execution_count": 7,
     "metadata": {},
     "output_type": "execute_result"
    }
   ],
   "source": [
    "df_temp.shape"
   ]
  },
  {
   "cell_type": "markdown",
   "metadata": {},
   "source": [
    "### Con que columnas cuenta la base de datos"
   ]
  },
  {
   "cell_type": "code",
   "execution_count": 8,
   "metadata": {
    "collapsed": false
   },
   "outputs": [
    {
     "name": "stdout",
     "output_type": "stream",
     "text": [
      "['Year', 'Month', 'Day', 'Hour', 'Minute', 'Temperature  [2 m above gnd]', 'Relative humidity  [2 m above gnd]', 'Total Precipitation  [sfc]', 'Wind speed  [10 m above gnd]', 'Wind direction  [10 m above gnd]']\n"
     ]
    }
   ],
   "source": [
    "print list(df_temp.columns)"
   ]
  },
  {
   "cell_type": "markdown",
   "metadata": {},
   "source": [
    "### Cual es la unidad de la base de datos?"
   ]
  },
  {
   "cell_type": "code",
   "execution_count": 9,
   "metadata": {
    "collapsed": false
   },
   "outputs": [
    {
     "data": {
      "text/html": [
       "<div>\n",
       "<style>\n",
       "    .dataframe thead tr:only-child th {\n",
       "        text-align: right;\n",
       "    }\n",
       "\n",
       "    .dataframe thead th {\n",
       "        text-align: left;\n",
       "    }\n",
       "\n",
       "    .dataframe tbody tr th {\n",
       "        vertical-align: top;\n",
       "    }\n",
       "</style>\n",
       "<table border=\"1\" class=\"dataframe\">\n",
       "  <thead>\n",
       "    <tr style=\"text-align: right;\">\n",
       "      <th></th>\n",
       "      <th>Year</th>\n",
       "      <th>Month</th>\n",
       "      <th>Day</th>\n",
       "      <th>Hour</th>\n",
       "      <th>Minute</th>\n",
       "      <th>Temperature  [2 m above gnd]</th>\n",
       "      <th>Relative humidity  [2 m above gnd]</th>\n",
       "      <th>Total Precipitation  [sfc]</th>\n",
       "      <th>Wind speed  [10 m above gnd]</th>\n",
       "      <th>Wind direction  [10 m above gnd]</th>\n",
       "    </tr>\n",
       "  </thead>\n",
       "  <tbody>\n",
       "    <tr>\n",
       "      <th>0</th>\n",
       "      <td>2017</td>\n",
       "      <td>9</td>\n",
       "      <td>15</td>\n",
       "      <td>0</td>\n",
       "      <td>0</td>\n",
       "      <td>26.10</td>\n",
       "      <td>73</td>\n",
       "      <td>0.0</td>\n",
       "      <td>4.68</td>\n",
       "      <td>90.00</td>\n",
       "    </tr>\n",
       "    <tr>\n",
       "      <th>1</th>\n",
       "      <td>2017</td>\n",
       "      <td>9</td>\n",
       "      <td>15</td>\n",
       "      <td>1</td>\n",
       "      <td>0</td>\n",
       "      <td>25.82</td>\n",
       "      <td>74</td>\n",
       "      <td>0.0</td>\n",
       "      <td>5.09</td>\n",
       "      <td>81.87</td>\n",
       "    </tr>\n",
       "    <tr>\n",
       "      <th>2</th>\n",
       "      <td>2017</td>\n",
       "      <td>9</td>\n",
       "      <td>15</td>\n",
       "      <td>2</td>\n",
       "      <td>0</td>\n",
       "      <td>25.54</td>\n",
       "      <td>76</td>\n",
       "      <td>0.0</td>\n",
       "      <td>4.69</td>\n",
       "      <td>85.60</td>\n",
       "    </tr>\n",
       "    <tr>\n",
       "      <th>3</th>\n",
       "      <td>2017</td>\n",
       "      <td>9</td>\n",
       "      <td>15</td>\n",
       "      <td>3</td>\n",
       "      <td>0</td>\n",
       "      <td>25.16</td>\n",
       "      <td>79</td>\n",
       "      <td>0.0</td>\n",
       "      <td>3.96</td>\n",
       "      <td>90.00</td>\n",
       "    </tr>\n",
       "    <tr>\n",
       "      <th>4</th>\n",
       "      <td>2017</td>\n",
       "      <td>9</td>\n",
       "      <td>15</td>\n",
       "      <td>4</td>\n",
       "      <td>0</td>\n",
       "      <td>24.89</td>\n",
       "      <td>81</td>\n",
       "      <td>0.0</td>\n",
       "      <td>3.62</td>\n",
       "      <td>95.71</td>\n",
       "    </tr>\n",
       "  </tbody>\n",
       "</table>\n",
       "</div>"
      ],
      "text/plain": [
       "   Year  Month  Day  Hour  Minute  Temperature  [2 m above gnd]  \\\n",
       "0  2017      9   15     0       0                         26.10   \n",
       "1  2017      9   15     1       0                         25.82   \n",
       "2  2017      9   15     2       0                         25.54   \n",
       "3  2017      9   15     3       0                         25.16   \n",
       "4  2017      9   15     4       0                         24.89   \n",
       "\n",
       "   Relative humidity  [2 m above gnd]  Total Precipitation  [sfc]  \\\n",
       "0                                  73                         0.0   \n",
       "1                                  74                         0.0   \n",
       "2                                  76                         0.0   \n",
       "3                                  79                         0.0   \n",
       "4                                  81                         0.0   \n",
       "\n",
       "   Wind speed  [10 m above gnd]  Wind direction  [10 m above gnd]  \n",
       "0                          4.68                             90.00  \n",
       "1                          5.09                             81.87  \n",
       "2                          4.69                             85.60  \n",
       "3                          3.96                             90.00  \n",
       "4                          3.62                             95.71  "
      ]
     },
     "execution_count": 9,
     "metadata": {},
     "output_type": "execute_result"
    }
   ],
   "source": [
    "df_temp.head()"
   ]
  },
  {
   "cell_type": "code",
   "execution_count": 10,
   "metadata": {
    "collapsed": false
   },
   "outputs": [
    {
     "name": "stdout",
     "output_type": "stream",
     "text": [
      "La unidad basica de la base de datos son horas del dia\n"
     ]
    }
   ],
   "source": [
    "print 'La unidad basica de la base de datos son horas del dia'"
   ]
  },
  {
   "cell_type": "markdown",
   "metadata": {},
   "source": [
    "## Responde algunas preguntas sobre la base de datos"
   ]
  },
  {
   "cell_type": "markdown",
   "metadata": {
    "collapsed": true
   },
   "source": [
    "### Desde que fecha hasta que fecha se tiene información"
   ]
  },
  {
   "cell_type": "code",
   "execution_count": 11,
   "metadata": {
    "collapsed": false
   },
   "outputs": [
    {
     "name": "stdout",
     "output_type": "stream",
     "text": [
      "15\n",
      "29\n"
     ]
    }
   ],
   "source": [
    "## Forma 1\n",
    "## Dado que la informacion solo contiene información de solo un mes y solo un año, la fecha minima es el dia minimo y la \n",
    "## fecha maxima es el dia maximo\n",
    "\n",
    "print df_temp['Day'].min()\n",
    "print df_temp['Day'].max()"
   ]
  },
  {
   "cell_type": "code",
   "execution_count": 13,
   "metadata": {
    "collapsed": false
   },
   "outputs": [],
   "source": [
    "## Forma 2\n",
    "## Crear una variable de fecha\n",
    "\n",
    "df_temp['Fecha'] = df_temp['Year'].map(str) + '-0' + df_temp['Month'].map(str) + '-' + df_temp['Day'].map(str)"
   ]
  },
  {
   "cell_type": "code",
   "execution_count": 16,
   "metadata": {
    "collapsed": false
   },
   "outputs": [
    {
     "name": "stdout",
     "output_type": "stream",
     "text": [
      "2017-09-15 00:00:00\n",
      "2017-09-29 00:00:00\n"
     ]
    }
   ],
   "source": [
    "df_temp['Date'] = pd.to_datetime(df_temp['Fecha'], format='%Y-%m-%d')\n",
    "print df_temp['Date'].min()\n",
    "print df_temp['Date'].max()"
   ]
  },
  {
   "cell_type": "markdown",
   "metadata": {
    "collapsed": true
   },
   "source": [
    "### Cual es la temperatura máxima y mínima"
   ]
  },
  {
   "cell_type": "code",
   "execution_count": 17,
   "metadata": {
    "collapsed": false
   },
   "outputs": [
    {
     "name": "stdout",
     "output_type": "stream",
     "text": [
      "31.45\n",
      "23.17\n"
     ]
    }
   ],
   "source": [
    "print df_temp['Temperature  [2 m above gnd]'].max()\n",
    "print df_temp['Temperature  [2 m above gnd]'].min()"
   ]
  },
  {
   "cell_type": "markdown",
   "metadata": {
    "collapsed": true
   },
   "source": [
    "### En que hora del día hace más calor? .... y más frio?"
   ]
  },
  {
   "cell_type": "code",
   "execution_count": 19,
   "metadata": {
    "collapsed": false
   },
   "outputs": [
    {
     "data": {
      "text/plain": [
       "Hour\n",
       "6     24.474000\n",
       "5     24.604000\n",
       "4     24.774667\n",
       "3     24.975333\n",
       "2     25.258000\n",
       "7     25.467333\n",
       "1     25.560000\n",
       "0     25.865333\n",
       "23    26.180000\n",
       "22    26.501333\n",
       "8     26.547333\n",
       "21    26.805333\n",
       "20    26.862000\n",
       "19    27.160667\n",
       "9     27.217333\n",
       "18    27.520000\n",
       "10    27.874000\n",
       "11    28.042000\n",
       "17    28.222000\n",
       "12    28.538000\n",
       "13    28.628000\n",
       "16    28.681333\n",
       "15    28.806667\n",
       "14    28.848667\n",
       "Name: Temperature  [2 m above gnd], dtype: float64"
      ]
     },
     "execution_count": 19,
     "metadata": {},
     "output_type": "execute_result"
    }
   ],
   "source": [
    "df_temp.groupby(['Hour'])['Temperature  [2 m above gnd]'].mean().sort_values()"
   ]
  },
  {
   "cell_type": "code",
   "execution_count": 20,
   "metadata": {
    "collapsed": false
   },
   "outputs": [
    {
     "name": "stdout",
     "output_type": "stream",
     "text": [
      "La hora del dia donde hace más calor es las 2 de la tarde\n",
      "La hora del dia donde hace más frio es las 6 de la mañana\n"
     ]
    }
   ],
   "source": [
    "print \"La hora del dia donde hace más calor es las 2 de la tarde\"\n",
    "print \"La hora del dia donde hace más frio es las 6 de la mañana\""
   ]
  },
  {
   "cell_type": "markdown",
   "metadata": {
    "collapsed": true
   },
   "source": [
    "### Existe alguna relación entre la temperatura y la humedad"
   ]
  },
  {
   "cell_type": "code",
   "execution_count": 21,
   "metadata": {
    "collapsed": false
   },
   "outputs": [
    {
     "name": "stdout",
     "output_type": "stream",
     "text": [
      "-0.857788011057\n"
     ]
    }
   ],
   "source": [
    "print df_temp['Temperature  [2 m above gnd]'].corr(df_temp['Relative humidity  [2 m above gnd]'])"
   ]
  },
  {
   "cell_type": "markdown",
   "metadata": {},
   "source": [
    "### Cuantas veces la temperatura se encontró entre 23 y 24 grados ...... y cuantas mas de 30 grados"
   ]
  },
  {
   "cell_type": "code",
   "execution_count": 24,
   "metadata": {
    "collapsed": false
   },
   "outputs": [
    {
     "name": "stdout",
     "output_type": "stream",
     "text": [
      "21 veces se encontro la temperatura entre 23 y 24 grados\n",
      "18 veces se encontro la temperatura mas de 30 grados\n"
     ]
    }
   ],
   "source": [
    "## Forma 1 de hacerlo\n",
    "## Hacer una subseleccion del dataframe y hallar el porte del dataframe\n",
    "\n",
    "print '{} veces se encontro la temperatura entre 23 y 24 grados'.format(len(df_temp[(df_temp['Temperature  [2 m above gnd]']>=23)&(df_temp['Temperature  [2 m above gnd]']<=24)]))\n",
    "\n",
    "print '{} veces se encontro la temperatura mas de 30 grados'.format(len(df_temp[(df_temp['Temperature  [2 m above gnd]']>30)]))"
   ]
  },
  {
   "cell_type": "code",
   "execution_count": 26,
   "metadata": {
    "collapsed": false
   },
   "outputs": [
    {
     "name": "stdout",
     "output_type": "stream",
     "text": [
      "Temperatura entre 23 y 24\n",
      "0    339\n",
      "1     21\n",
      "Name: 23-24, dtype: int64\n",
      "Temperatura mayor a 30\n",
      "0    342\n",
      "1     18\n",
      "Name: >30, dtype: int64\n"
     ]
    },
    {
     "name": "stderr",
     "output_type": "stream",
     "text": [
      "C:\\Anaconda2\\lib\\site-packages\\ipykernel\\__main__.py:5: SettingWithCopyWarning: \n",
      "A value is trying to be set on a copy of a slice from a DataFrame\n",
      "\n",
      "See the caveats in the documentation: http://pandas.pydata.org/pandas-docs/stable/indexing.html#indexing-view-versus-copy\n",
      "C:\\Anaconda2\\lib\\site-packages\\ipykernel\\__main__.py:10: SettingWithCopyWarning: \n",
      "A value is trying to be set on a copy of a slice from a DataFrame\n",
      "\n",
      "See the caveats in the documentation: http://pandas.pydata.org/pandas-docs/stable/indexing.html#indexing-view-versus-copy\n"
     ]
    }
   ],
   "source": [
    "## Forma 2 de hacerlo\n",
    "## Crear una columna nueva y luego contar los valores de esa columna\n",
    "\n",
    "df_temp['23-24'] = 0\n",
    "df_temp['23-24'][(df_temp['Temperature  [2 m above gnd]']>=23)&(df_temp['Temperature  [2 m above gnd]']<=24)] = 1\n",
    "print \"Temperatura entre 23 y 24\"\n",
    "print df_temp['23-24'].value_counts()\n",
    "\n",
    "df_temp['>30'] = 0\n",
    "df_temp['>30'][(df_temp['Temperature  [2 m above gnd]']>30)] = 1\n",
    "print \"Temperatura mayor a 30\"\n",
    "print df_temp['>30'].value_counts()\n"
   ]
  },
  {
   "cell_type": "markdown",
   "metadata": {},
   "source": [
    "### Crear un ratio entre la velocidad del viento y la humedad"
   ]
  },
  {
   "cell_type": "code",
   "execution_count": 27,
   "metadata": {
    "collapsed": true
   },
   "outputs": [],
   "source": [
    "df_temp['ratio'] = df_temp['Wind speed  [10 m above gnd]'] / df_temp['Relative humidity  [2 m above gnd]']"
   ]
  },
  {
   "cell_type": "code",
   "execution_count": 28,
   "metadata": {
    "collapsed": false
   },
   "outputs": [
    {
     "data": {
      "text/plain": [
       "<matplotlib.axes._subplots.AxesSubplot at 0xab196d8>"
      ]
     },
     "execution_count": 28,
     "metadata": {},
     "output_type": "execute_result"
    },
    {
     "data": {
      "image/png": "[encoded data removed]",
      "text/plain": [
       "<matplotlib.figure.Figure at 0xab0e160>"
      ]
     },
     "metadata": {},
     "output_type": "display_data"
    }
   ],
   "source": [
    "df_temp['ratio'].hist()"
   ]
  }
 ],
 "metadata": {
  "kernelspec": {
   "display_name": "Python 2",
   "language": "python",
   "name": "python2"
  },
  "language_info": {
   "codemirror_mode": {
    "name": "ipython",
    "version": 2
   },
   "file_extension": ".py",
   "mimetype": "text/x-python",
   "name": "python",
   "nbconvert_exporter": "python",
   "pygments_lexer": "ipython2",
   "version": "2.7.13"
  }
 },
 "nbformat": 4,
 "nbformat_minor": 0
}
