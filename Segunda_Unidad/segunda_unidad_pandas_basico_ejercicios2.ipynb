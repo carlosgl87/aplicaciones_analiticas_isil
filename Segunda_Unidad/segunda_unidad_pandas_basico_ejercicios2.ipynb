{
 "cells": [
  {
   "cell_type": "markdown",
   "metadata": {},
   "source": [
    "Carga las librerias necesarias"
   ]
  },
  {
   "cell_type": "markdown",
   "metadata": {},
   "source": [
    "Carga las base de datos llamada: \"deniro.csv\" en un dataframe"
   ]
  },
  {
   "cell_type": "markdown",
   "metadata": {},
   "source": [
    "**PREGUNTA 1**  \n",
    "¿Cuantas peliculas tiene un ranking de más de 90 de score?"
   ]
  },
  {
   "cell_type": "markdown",
   "metadata": {},
   "source": [
    "**PREGUNTA 2**  \n",
    "¿Cuales son las dos películas que tienen mas score?"
   ]
  },
  {
   "cell_type": "markdown",
   "metadata": {},
   "source": [
    "**PREGUNTA 3**  \n",
    "¿En que año existen mas peliculas?  \n",
    "*Ayuda: Para esto crea una columna solo de unos (df['unos'] = 1) y de ahi has un groupby (by años) y sumando la columna de unos*"
   ]
  },
  {
   "cell_type": "markdown",
   "metadata": {},
   "source": [
    "**PREGUNTA 4**  \n",
    "¿Que peliculas tienen un score mas de 70 y menos de 80?"
   ]
  }
 ],
 "metadata": {
  "kernelspec": {
   "display_name": "Python 2",
   "language": "python",
   "name": "python2"
  },
  "language_info": {
   "codemirror_mode": {
    "name": "ipython",
    "version": 2
   },
   "file_extension": ".py",
   "mimetype": "text/x-python",
   "name": "python",
   "nbconvert_exporter": "python",
   "pygments_lexer": "ipython2",
   "version": "2.7.13"
  }
 },
 "nbformat": 4,
 "nbformat_minor": 0
}
