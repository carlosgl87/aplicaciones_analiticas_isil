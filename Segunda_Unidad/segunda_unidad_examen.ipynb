{
 "cells": [
  {
   "cell_type": "markdown",
   "metadata": {},
   "source": [
    "#### PREGUNTA 1\n",
    "Carga las base de datos llamada: \"cars.csv\" en un dataframe (6 puntos)\n",
    "- ¿Cuantos carros tienen mas de 160 y menos de 200 caballos de fuerza?\n",
    "- ¿Que pais ha producido más carros (origen de carros)?\n",
    "- En la base de datos, ¿Cuantos carros por cilindros se tiene?"
   ]
  },
  {
   "cell_type": "code",
   "execution_count": null,
   "metadata": {
    "collapsed": true
   },
   "outputs": [],
   "source": []
  },
  {
   "cell_type": "markdown",
   "metadata": {},
   "source": [
    "#### PREGUNTA 2\n",
    "Carga las base de datos llamada: \"airAccs.csv\" en un dataframe (7 puntos)\n",
    "- ¿Cual es el promedio de muertes por accidente?\n",
    "- ¿Que tipo de avion ha tenido más accidentes?\n",
    "- ¿Cuales son los cinco lugares donde se ha registrado más accidentes ?\n",
    "- ¿En promedio cual es porcentaje de personas (sobre el total de personas a bordo) que mueren en un accidente de avión?"
   ]
  },
  {
   "cell_type": "code",
   "execution_count": null,
   "metadata": {
    "collapsed": true
   },
   "outputs": [],
   "source": []
  },
  {
   "cell_type": "markdown",
   "metadata": {},
   "source": [
    "#### PREGUNTA 3\n",
    "Carga las base de datos llamada: \"assaults-2015-csv.csv\" en un dataframe (7 puntos)\n",
    "- ¿En que area hay menos asaltos?\n",
    "- ¿Cual es la distribución del ratio (asaltos/población)?\n",
    "- ¿En que región existe un menor ratio de asaltos por población?"
   ]
  },
  {
   "cell_type": "code",
   "execution_count": null,
   "metadata": {
    "collapsed": true
   },
   "outputs": [],
   "source": []
  }
 ],
 "metadata": {
  "kernelspec": {
   "display_name": "Python 2",
   "language": "python",
   "name": "python2"
  },
  "language_info": {
   "codemirror_mode": {
    "name": "ipython",
    "version": 2
   },
   "file_extension": ".py",
   "mimetype": "text/x-python",
   "name": "python",
   "nbconvert_exporter": "python",
   "pygments_lexer": "ipython2",
   "version": "2.7.13"
  }
 },
 "nbformat": 4,
 "nbformat_minor": 0
}
