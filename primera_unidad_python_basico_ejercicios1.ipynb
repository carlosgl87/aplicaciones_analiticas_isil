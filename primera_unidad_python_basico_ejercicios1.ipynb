{
 "cells": [
  {
   "cell_type": "markdown",
   "metadata": {},
   "source": [
    "# PYTHON - BASICO - EJERCICIOS 1"
   ]
  },
  {
   "cell_type": "markdown",
   "metadata": {},
   "source": [
    "- Escribe una funcion que permita convertir temperaturas de celsius a Fahrenheit y viceversa  \n",
    "[ Formula : c/5 = f-32/9 [ donde c = temperatura en celsius y f = temperatura en fahrenheit ]  \n",
    "***Output Esperado:***  \n",
    "60°C es 140 en Fahrenheit  \n",
    "45°F es 7 en Celsius  "
   ]
  },
  {
   "cell_type": "markdown",
   "metadata": {},
   "source": [
    "- Escribe una funcion que permita encontrar numeros que sean divibles por 7 y multiplor de 5 entre 1500 y 2700 (incluido ambos)"
   ]
  },
  {
   "cell_type": "markdown",
   "metadata": {},
   "source": [
    "- Escribe una funcion que construya el patron siguiente, usando loops:  \n",
    "\n",
    "\\*  \n",
    "\\* \\*   \n",
    "\\* \\* \\*   \n",
    "\\* \\* \\* \\*   \n",
    "\\* \\* \\* \\* \\*   \n",
    "\\* \\* \\* \\*   \n",
    "\\* \\* \\*   \n",
    "\\* \\*   \n",
    "\\*  "
   ]
  },
  {
   "cell_type": "markdown",
   "metadata": {},
   "source": [
    "- Escribe una funcion que permita contar el numero de numeros pares e impares de una serie de numeros  \n",
    "Ejemplo:   \n",
    "numbers = (1,2,3,4,5,6,7,8,9)  \n",
    "Output Esperado:  \n",
    "Numero de numeros pares: 5  \n",
    "Numero de numeros impares: 4  "
   ]
  },
  {
   "cell_type": "markdown",
   "metadata": {},
   "source": [
    "- Escribe una funcion que permita sumar todos los elementos en una lista"
   ]
  },
  {
   "cell_type": "markdown",
   "metadata": {},
   "source": [
    "- Escribe una funcion que cuente el numero de strings donde el largo del estring es mayor a dos. El input es una lista"
   ]
  },
  {
   "cell_type": "markdown",
   "metadata": {},
   "source": [
    "- Escribe una funcion a la cual le des dos listas y retorne Verdadero si las listas al menos tienen un elemento en comun"
   ]
  },
  {
   "cell_type": "markdown",
   "metadata": {},
   "source": [
    "- Escribe una funcion que tenga como input una lista de numeros y el output sea la misma lista de nuemeros pero removiendo los numeros pares"
   ]
  },
  {
   "cell_type": "markdown",
   "metadata": {},
   "source": [
    "- Escribe una funcion que halle el segundo numero más grande de una lista"
   ]
  },
  {
   "cell_type": "markdown",
   "metadata": {},
   "source": [
    "- Escribe una funcion que permita convertir una lista de numeros en un solo numero:  \n",
    "Input: [11,12,45]   \n",
    "Output: 111245"
   ]
  }
 ],
 "metadata": {
  "kernelspec": {
   "display_name": "Python 2",
   "language": "python",
   "name": "python2"
  },
  "language_info": {
   "codemirror_mode": {
    "name": "ipython",
    "version": 2
   },
   "file_extension": ".py",
   "mimetype": "text/x-python",
   "name": "python",
   "nbconvert_exporter": "python",
   "pygments_lexer": "ipython2",
   "version": "2.7.13"
  }
 },
 "nbformat": 4,
 "nbformat_minor": 0
}
