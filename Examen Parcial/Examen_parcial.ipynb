{
 "cells": [
  {
   "cell_type": "markdown",
   "metadata": {},
   "source": [
    "#### PRIMERA SECCIÓN \n",
    "Trabajando con listas y diccionarios"
   ]
  },
  {
   "cell_type": "markdown",
   "metadata": {},
   "source": [
    "#### PREGUNTA 1 (2 puntos)\n",
    "Usando \"list comprehension\", escribe un programa que tenga como inputs una lista y el resultado sea otra lista pero solo de los número que sean divisibles entre 3"
   ]
  },
  {
   "cell_type": "code",
   "execution_count": null,
   "metadata": {
    "collapsed": true
   },
   "outputs": [],
   "source": []
  },
  {
   "cell_type": "markdown",
   "metadata": {},
   "source": [
    "#### PREGUNTA 2 (2 puntos)\n",
    "\n",
    "Escribe una funcion que halle el numero más grande de una lista"
   ]
  },
  {
   "cell_type": "code",
   "execution_count": null,
   "metadata": {
    "collapsed": true
   },
   "outputs": [],
   "source": []
  },
  {
   "cell_type": "markdown",
   "metadata": {},
   "source": [
    "### SEGUNDA SECCIÓN\n",
    "Analisis de datos con pandas"
   ]
  },
  {
   "cell_type": "markdown",
   "metadata": {},
   "source": [
    "#### PREGUNTA 1"
   ]
  },
  {
   "cell_type": "code",
   "execution_count": 12,
   "metadata": {
    "collapsed": true
   },
   "outputs": [],
   "source": [
    "raw_data = {'regimiento': ['Nighthawks', 'Nighthawks', 'Nighthawks', 'Nighthawks', 'Dragoons', 'Dragoons', 'Dragoons', 'Dragoons', 'Scouts', 'Scouts', 'Scouts', 'Scouts'],\n",
    "            'compania': ['1st', '1st', '2nd', '2nd', '1st', '1st', '2nd', '2nd','1st', '1st', '2nd', '2nd'],\n",
    "            'muertes': [523, 52, 25, 616, 43, 234, 523, 62, 62, 73, 37, 35],\n",
    "            'batallas': [5, 42, 2, 2, 4, 7, 8, 3, 4, 7, 8, 9],\n",
    "            'tamaño': [1045, 957, 1099, 1400, 1592, 1006, 987, 849, 973, 1005, 1099, 1523],\n",
    "            'veteranos': [1, 5, 62, 26, 73, 37, 949, 48, 48, 435, 63, 345],\n",
    "            'readiness': [1, 2, 3, 3, 2, 1, 2, 3, 2, 1, 2, 3],\n",
    "            'armored': [1, 0, 1, 1, 0, 1, 0, 1, 0, 0, 1, 1],\n",
    "            'desertores': [4, 24, 31, 2, 3, 4, 24, 31, 2, 3, 2, 3],\n",
    "            'origen': ['Arizona', 'California', 'Texas', 'Florida', 'Maine', 'Iowa', 'Alaska', 'Washington', 'Oregon', 'Wyoming', 'Louisana', 'Georgia']}\n",
    "df_army = pd.DataFrame(raw_data, columns = ['regimiento', 'compania', 'muertes', 'batallas', 'tamaño', 'veteranos', 'readiness', 'armored', 'desertores', 'origen'])"
   ]
  },
  {
   "cell_type": "markdown",
   "metadata": {},
   "source": [
    "Con el dataframe df_army realiza las siguientes acciones (5 puntos)\n",
    "- Selecciona las columnas \"muertes\" y tamaño que tenga como origen Maine y Alaska\n",
    "- Selecciona las filas donde las muertes sean mayores que 500 o menores que 50\n",
    "- Crea una nueva columna con un ratio que represente el promedio de muertes por batalla"
   ]
  },
  {
   "cell_type": "markdown",
   "metadata": {},
   "source": [
    "#### PREGUNTA 2"
   ]
  },
  {
   "cell_type": "markdown",
   "metadata": {},
   "source": [
    "Carga las base de datos llamada: \"US_Baby_Names_right.csv\" en un dataframe (5 puntos)\n",
    "- ¿Existen más hombres o mujeres en la base de datos?\n",
    "- ¿Cual es el nombre que tiene más ocurrencias?\n",
    "- ¿En que año existen más personas?"
   ]
  },
  {
   "cell_type": "markdown",
   "metadata": {},
   "source": [
    "#### PREGUNTA 3"
   ]
  },
  {
   "cell_type": "markdown",
   "metadata": {},
   "source": [
    "Carga el archivo imdb_1000.csv en un dataframe de pandas y contesta las siguientes preguntas (6 puntos)\n",
    "- ¿Cuantas peliculas tiene un ranking de más de 8 estrellas?\n",
    "- ¿De que géneros son las películas con un ranking más de 9 estrellas?\n",
    "- ¿Cuales son las dos películas de horror y de clasificación \"R\" que tienen más estrellas?\n",
    "\n",
    "BONUS (4 puntos)\n",
    "- ¿Existe alguna relación entre la duración de una película y las estrellas de rating que posee?\n",
    "- ¿Cuales son los dos actores que tienen más prescencia en las peliculas en general?"
   ]
  }
 ],
 "metadata": {
  "kernelspec": {
   "display_name": "Python 2",
   "language": "python",
   "name": "python2"
  },
  "language_info": {
   "codemirror_mode": {
    "name": "ipython",
    "version": 2
   },
   "file_extension": ".py",
   "mimetype": "text/x-python",
   "name": "python",
   "nbconvert_exporter": "python",
   "pygments_lexer": "ipython2",
   "version": "2.7.13"
  }
 },
 "nbformat": 4,
 "nbformat_minor": 0
}
