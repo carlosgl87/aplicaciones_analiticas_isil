{
 "cells": [
  {
   "cell_type": "markdown",
   "metadata": {},
   "source": [
    "# PYTHON - BASICO - EJERCICIOS 1"
   ]
  },
  {
   "cell_type": "markdown",
   "metadata": {},
   "source": [
    "- Escribe una funcion que permita convertir temperaturas de celsius a Fahrenheit y viceversa  \n",
    "[ Formula : c/5 = f-32/9 [ donde c = temperatura en celsius y f = temperatura en fahrenheit ]  \n",
    "***Output Esperado:***  \n",
    "60°C es 140 en Fahrenheit  \n",
    "45°F es 7 en Celsius  "
   ]
  },
  {
   "cell_type": "code",
   "execution_count": 15,
   "metadata": {
    "collapsed": false
   },
   "outputs": [],
   "source": [
    "def convertir_temperatura(numero,tipo):\n",
    "    if tipo == \"C\":\n",
    "        return int(round((9 * numero) / 5 + 32))\n",
    "    elif tipo == \"F\":\n",
    "        return int(round((numero - 32) * 5 / 9))\n",
    "    else:\n",
    "        print(\"No se reconoce el tipo\")\n",
    "        return"
   ]
  },
  {
   "cell_type": "code",
   "execution_count": 16,
   "metadata": {
    "collapsed": false
   },
   "outputs": [
    {
     "data": {
      "text/plain": [
       "7"
      ]
     },
     "execution_count": 16,
     "metadata": {},
     "output_type": "execute_result"
    }
   ],
   "source": [
    "convertir_temperatura(45,'F')"
   ]
  },
  {
   "cell_type": "markdown",
   "metadata": {},
   "source": [
    "- Escribe una funcion que permita encontrar numeros que sean divibles por 7 y multiplor de 5 entre 1500 y 2700 (incluido ambos)"
   ]
  },
  {
   "cell_type": "code",
   "execution_count": 9,
   "metadata": {
    "collapsed": false
   },
   "outputs": [],
   "source": [
    "def encontrar_numero(num_inicio, num_fin):\n",
    "    nl=[]\n",
    "    for x in range(num_inicio, num_fin):\n",
    "        if (x%7==0) and (x%5==0):\n",
    "            nl.append(str(x))\n",
    "    return nl"
   ]
  },
  {
   "cell_type": "code",
   "execution_count": 10,
   "metadata": {
    "collapsed": false
   },
   "outputs": [
    {
     "name": "stdout",
     "output_type": "stream",
     "text": [
      "['1505', '1540', '1575', '1610', '1645', '1680', '1715', '1750', '1785', '1820', '1855', '1890', '1925', '1960', '1995', '2030', '2065', '2100', '2135', '2170', '2205', '2240', '2275', '2310', '2345', '2380', '2415', '2450', '2485', '2520', '2555', '2590', '2625', '2660', '2695']\n"
     ]
    }
   ],
   "source": [
    "print encontrar_numero(1500, 2700)"
   ]
  },
  {
   "cell_type": "markdown",
   "metadata": {},
   "source": [
    "- Escribe una funcion que construya el patron siguiente, usando loops:  \n",
    "\n",
    "\\*  \n",
    "\\* \\*   \n",
    "\\* \\* \\*   \n",
    "\\* \\* \\* \\*   \n",
    "\\* \\* \\* \\* \\*   \n",
    "\\* \\* \\* \\*   \n",
    "\\* \\* \\*   \n",
    "\\* \\*   \n",
    "\\*  "
   ]
  },
  {
   "cell_type": "code",
   "execution_count": 19,
   "metadata": {
    "collapsed": false
   },
   "outputs": [
    {
     "name": "stdout",
     "output_type": "stream",
     "text": [
      "\n",
      "*\n",
      "**\n",
      "***\n",
      "****\n",
      "*****\n",
      "****\n",
      "***\n",
      "**\n",
      "*\n"
     ]
    }
   ],
   "source": [
    "n=5\n",
    "for i in range(n):\n",
    "    print '*'*i\n",
    "\n",
    "for i in range(n,0,-1):\n",
    "    print '*'*i"
   ]
  },
  {
   "cell_type": "markdown",
   "metadata": {},
   "source": [
    "- Escribe una funcion que permita contar el numero de numeros pares e impares de una serie de numeros  \n",
    "Ejemplo:   \n",
    "numbers = (1,2,3,4,5,6,7,8,9)  \n",
    "Output Esperado:  \n",
    "Numero de numeros pares: 5  \n",
    "Numero de numeros impares: 4  "
   ]
  },
  {
   "cell_type": "code",
   "execution_count": 22,
   "metadata": {
    "collapsed": true
   },
   "outputs": [],
   "source": [
    "def contar_par_impar(lista):\n",
    "    par_c = 0\n",
    "    impar_c = 0\n",
    "    for x in lista:\n",
    "        if x % 2 == 0:\n",
    "            par_c = par_c + 1\n",
    "        else:\n",
    "            impar_c = impar_c + 1\n",
    "    print 'Numero de pares: {}, numero de impares: {}'.format(par_c, impar_c)"
   ]
  },
  {
   "cell_type": "code",
   "execution_count": 26,
   "metadata": {
    "collapsed": false
   },
   "outputs": [
    {
     "name": "stdout",
     "output_type": "stream",
     "text": [
      "Numero de pares: 4, numero de impares: 2\n"
     ]
    }
   ],
   "source": [
    "lista_numeros = [2,4,5,6,7,8]\n",
    "contar_par_impar(lista_numeros)"
   ]
  },
  {
   "cell_type": "markdown",
   "metadata": {},
   "source": [
    "- Escribe una funcion que permita sumar todos los elementos en una lista"
   ]
  },
  {
   "cell_type": "code",
   "execution_count": 27,
   "metadata": {
    "collapsed": true
   },
   "outputs": [],
   "source": [
    "def sumar_lista(lista):\n",
    "    suma = 0\n",
    "    for x in lista:\n",
    "        suma = suma + x\n",
    "    return suma"
   ]
  },
  {
   "cell_type": "code",
   "execution_count": 29,
   "metadata": {
    "collapsed": false
   },
   "outputs": [
    {
     "name": "stdout",
     "output_type": "stream",
     "text": [
      "32\n"
     ]
    }
   ],
   "source": [
    "lista_numeros = [2,4,5,6,7,8]\n",
    "print sumar_lista(lista_numeros)"
   ]
  },
  {
   "cell_type": "markdown",
   "metadata": {},
   "source": [
    "- Escribe una funcion que cuente el numero de strings donde el largo del estring es mayor a dos. El input es una lista"
   ]
  },
  {
   "cell_type": "code",
   "execution_count": 32,
   "metadata": {
    "collapsed": true
   },
   "outputs": [],
   "source": [
    "def contar_strings(lista):\n",
    "    numero_strings = 0\n",
    "    for x in lista:\n",
    "        if len(x) > 2:\n",
    "            numero_strings = numero_strings + 1\n",
    "    return numero_strings"
   ]
  },
  {
   "cell_type": "code",
   "execution_count": 34,
   "metadata": {
    "collapsed": false
   },
   "outputs": [
    {
     "name": "stdout",
     "output_type": "stream",
     "text": [
      "2\n"
     ]
    }
   ],
   "source": [
    "lista_strings = ['hola','do','sol','la']\n",
    "print contar_strings(lista_strings)"
   ]
  },
  {
   "cell_type": "markdown",
   "metadata": {},
   "source": [
    "- Escribe una funcion a la cual le des dos listas y retorne Verdadero si las listas al menos tienen un elemento en comun"
   ]
  },
  {
   "cell_type": "code",
   "execution_count": 3,
   "metadata": {
    "collapsed": true
   },
   "outputs": [],
   "source": [
    "def comparar_listas(lista_a, lista_b):\n",
    "    if bool(set(lista_a) & set(lista_b)):\n",
    "        print 'listas SI tienen algun elemento igual'\n",
    "    else:\n",
    "        print 'listas NO tienen ningun elemento igual'"
   ]
  },
  {
   "cell_type": "code",
   "execution_count": 5,
   "metadata": {
    "collapsed": false
   },
   "outputs": [
    {
     "name": "stdout",
     "output_type": "stream",
     "text": [
      "listas SI tienen algun elemento igual\n"
     ]
    }
   ],
   "source": [
    "lista_a = [1,2,3,4]\n",
    "lista_b = [5,6,7,2]\n",
    "comparar_listas(lista_a, lista_b)"
   ]
  },
  {
   "cell_type": "markdown",
   "metadata": {},
   "source": [
    "- Escribe una funcion que tenga como input una lista de numeros y el output sea la misma lista de nuemeros pero removiendo los numeros pares"
   ]
  },
  {
   "cell_type": "code",
   "execution_count": 35,
   "metadata": {
    "collapsed": true
   },
   "outputs": [],
   "source": [
    "def remover_pares(lista):\n",
    "    lista_nueva = []\n",
    "    for x in lista:\n",
    "        if x % 2 != 0:\n",
    "            lista_nueva.append(x)\n",
    "    return lista_nueva"
   ]
  },
  {
   "cell_type": "code",
   "execution_count": 37,
   "metadata": {
    "collapsed": false
   },
   "outputs": [
    {
     "name": "stdout",
     "output_type": "stream",
     "text": [
      "[5, 7]\n"
     ]
    }
   ],
   "source": [
    "lista_numeros = [2,4,5,6,7,8]\n",
    "print remover_pares(lista_numeros)"
   ]
  },
  {
   "cell_type": "markdown",
   "metadata": {},
   "source": [
    "- Escribe una funcion que halle el segundo numero más grande de una lista"
   ]
  },
  {
   "cell_type": "code",
   "execution_count": 42,
   "metadata": {
    "collapsed": true
   },
   "outputs": [],
   "source": [
    "def hallar_segundo_mayor(lista):\n",
    "    nueva_lista = sorted(lista, key=int, reverse=True)\n",
    "    return nueva_lista[1]"
   ]
  },
  {
   "cell_type": "code",
   "execution_count": 43,
   "metadata": {
    "collapsed": false
   },
   "outputs": [
    {
     "name": "stdout",
     "output_type": "stream",
     "text": [
      "7\n"
     ]
    }
   ],
   "source": [
    "lista_numeros = [2,4,5,6,7,8]\n",
    "print hallar_segundo_mayor(lista_numeros)"
   ]
  },
  {
   "cell_type": "markdown",
   "metadata": {},
   "source": [
    "- Escribe una funcion que permita convertir una lista de numeros en un solo numero:  \n",
    "Input: [11,12,45]   \n",
    "Output: 111245"
   ]
  },
  {
   "cell_type": "code",
   "execution_count": 49,
   "metadata": {
    "collapsed": true
   },
   "outputs": [],
   "source": [
    "def join_lista_numeros(lista):\n",
    "    string = ''.join(map(str, lista))\n",
    "    return string"
   ]
  },
  {
   "cell_type": "code",
   "execution_count": 50,
   "metadata": {
    "collapsed": false
   },
   "outputs": [
    {
     "name": "stdout",
     "output_type": "stream",
     "text": [
      "111213\n"
     ]
    }
   ],
   "source": [
    "lista = [11,12,13]\n",
    "print join_lista_numeros(lista)"
   ]
  }
 ],
 "metadata": {
  "kernelspec": {
   "display_name": "Python 2",
   "language": "python",
   "name": "python2"
  },
  "language_info": {
   "codemirror_mode": {
    "name": "ipython",
    "version": 2
   },
   "file_extension": ".py",
   "mimetype": "text/x-python",
   "name": "python",
   "nbconvert_exporter": "python",
   "pygments_lexer": "ipython2",
   "version": "2.7.13"
  }
 },
 "nbformat": 4,
 "nbformat_minor": 0
}
