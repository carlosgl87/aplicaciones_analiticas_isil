{
 "cells": [
  {
   "cell_type": "markdown",
   "metadata": {},
   "source": [
    "**PREGUNTA 1**  \n",
    "Escribe una función que permita pasar de metros a millas. Los argumentos de la función deberán de ser dos: un número y una letra: 'me' (cuando el número se refiere a metros) y 'mi' (cuando el numero se refiere a millas)"
   ]
  },
  {
   "cell_type": "markdown",
   "metadata": {},
   "source": [
    "**PREGUNTA 2**  \n",
    "Crea dos listas de numeros aleatorios que tengan el mismo largo. Luego crea una nueva lista que multiplique los valores de cada una de las listas uno a uno."
   ]
  },
  {
   "cell_type": "markdown",
   "metadata": {},
   "source": [
    "**PREGUNTA 3**  \n",
    "Escribe una funcion que construya el patron siguiente, usando loops  \n",
    "  \n",
    "\\*  \n",
    "\\+ \\+   \n",
    "\\* \\* \\*   \n",
    "\\+ \\+ \\+ \\+   \n",
    "\\* \\* \\* \\* \\*   \n",
    "\\+ \\+ \\+ \\+   \n",
    "\\* \\* \\*   \n",
    "\\+ \\+   \n",
    "\\*  "
   ]
  },
  {
   "cell_type": "markdown",
   "metadata": {},
   "source": [
    "**PREGUNTA 4**  \n",
    "Dado una lista, crea una función que tome como argumento dicha lista y el resultado sea la suma de los dos primeros numeros de la lista y los dos ultimos numeros de la lista"
   ]
  },
  {
   "cell_type": "markdown",
   "metadata": {},
   "source": [
    "**PREGUNTA 5**  \n",
    "Desarrolla una función que ordene de manera descendente una lista "
   ]
  },
  {
   "cell_type": "markdown",
   "metadata": {},
   "source": [
    "**PREGUNTA 6**  \n",
    "Usando \"list comprehension\", escribe un programa que tenga como inputs una lista y el resultado sea otra lista pero solo de los numeros pares"
   ]
  },
  {
   "cell_type": "markdown",
   "metadata": {},
   "source": [
    "**PREGUNTA 7**  \n",
    "Crea una función que tenga como argumentos dos listas. La función debe de retornar un diccionario, donde los valores de la primera lista sean las llaves del diccionario y los valores de la segunda lista sean los valores para cada una de las llaves (las listas deben de ser del mismo tamaño). "
   ]
  },
  {
   "cell_type": "markdown",
   "metadata": {},
   "source": [
    "**PREGUNTA 8**\n",
    "- Dado el siguiente diccionario:  \n",
    "  \n",
    "inventory = {  \n",
    "    'paises' : ['peru','chile','colombia','argentina'],  \n",
    "    'capitales' : ['lima', 'santiago','bogota','buenos aires'],  \n",
    "    'monedas' : ['sol','peso chileno', 'peso colombiano','peso argentino']  \n",
    "}\n",
    "\n",
    "    - Añade un key llamado \"presidentes\" cuyos valores serán 'ppk','Bachelet','Santos','Macri'\n",
    "    - Realiza un sort de los items dentro de la llave paises\n",
    "    - Añade el valor de 'bolivia' a la llave pais\n",
    "    - Añade el valor de 'evo' a la llave presidentes"
   ]
  },
  {
   "cell_type": "markdown",
   "metadata": {
    "collapsed": true
   },
   "source": [
    "**PREGUNTA 9**  \n",
    "Escribe una funcion cuyo argumento sea una lista. Tome el primer elemento y le reste los restantes"
   ]
  },
  {
   "cell_type": "markdown",
   "metadata": {
    "collapsed": true
   },
   "source": [
    "**PREGUNTA 10**  \n",
    "Escribe una funcion que halle el numero más grande de una lista"
   ]
  }
 ],
 "metadata": {
  "kernelspec": {
   "display_name": "Python 2",
   "language": "python",
   "name": "python2"
  },
  "language_info": {
   "codemirror_mode": {
    "name": "ipython",
    "version": 2
   },
   "file_extension": ".py",
   "mimetype": "text/x-python",
   "name": "python",
   "nbconvert_exporter": "python",
   "pygments_lexer": "ipython2",
   "version": "2.7.13"
  }
 },
 "nbformat": 4,
 "nbformat_minor": 0
}
