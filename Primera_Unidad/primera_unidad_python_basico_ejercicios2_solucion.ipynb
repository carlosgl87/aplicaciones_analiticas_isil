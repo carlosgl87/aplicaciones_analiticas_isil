{
 "cells": [
  {
   "cell_type": "markdown",
   "metadata": {},
   "source": [
    "## PYTHON - BASICO - EJERCICIOS 2"
   ]
  },
  {
   "cell_type": "markdown",
   "metadata": {},
   "source": [
    "- Dado una lista cualquiera, como por ejemplo [12,20,30,24,88,120,155,88,120,138], escribe un programa que pueda hacer print a una lista despues de removerle todos los duplicados y que tenga el mismo orden"
   ]
  },
  {
   "cell_type": "code",
   "execution_count": 3,
   "metadata": {
    "collapsed": true
   },
   "outputs": [],
   "source": [
    "def print_lista(lista):\n",
    "    nueva_lista = []\n",
    "    for var in lista:\n",
    "        if var not in nueva_lista:\n",
    "            nueva_lista.append(var)\n",
    "    return nueva_lista"
   ]
  },
  {
   "cell_type": "code",
   "execution_count": 4,
   "metadata": {
    "collapsed": false
   },
   "outputs": [
    {
     "data": {
      "text/plain": [
       "[12, 20, 30, 24, 88, 120, 155, 138]"
      ]
     },
     "execution_count": 4,
     "metadata": {},
     "output_type": "execute_result"
    }
   ],
   "source": [
    "lista1 = [12,20,30,24,88,120,155,88,120,138]\n",
    "print_lista(lista1)"
   ]
  },
  {
   "cell_type": "markdown",
   "metadata": {},
   "source": [
    "- Escribe una funcion que permita generar el string al reves. Por ejemplo, si el string es \"ABFG45\" el resultado seria \"54GFBA\""
   ]
  },
  {
   "cell_type": "code",
   "execution_count": 16,
   "metadata": {
    "collapsed": true
   },
   "outputs": [],
   "source": [
    "def escribir_reves(string1):\n",
    "    l = len(string1)\n",
    "    s2 = ''\n",
    "    for i in range(l,0,-1):\n",
    "        s2+=string1[i-1]\n",
    "    return s2"
   ]
  },
  {
   "cell_type": "code",
   "execution_count": 17,
   "metadata": {
    "collapsed": false
   },
   "outputs": [
    {
     "data": {
      "text/plain": [
       "'GDFBA'"
      ]
     },
     "execution_count": 17,
     "metadata": {},
     "output_type": "execute_result"
    }
   ],
   "source": [
    "string1 = 'ABFDG'\n",
    "escribir_reves(string1)"
   ]
  },
  {
   "cell_type": "markdown",
   "metadata": {},
   "source": [
    "- Usando \"list comprehension\", escribe un programa que tenga como inputs dos listas. El objetivo del programa es sacar de la primera lista los valores que estan en la segunda lista"
   ]
  },
  {
   "cell_type": "code",
   "execution_count": 19,
   "metadata": {
    "collapsed": true
   },
   "outputs": [],
   "source": [
    "def gen_lista(lista1,lista2):\n",
    "    return [item for item in lista1 if item in lista2]"
   ]
  },
  {
   "cell_type": "code",
   "execution_count": 20,
   "metadata": {
    "collapsed": false
   },
   "outputs": [
    {
     "data": {
      "text/plain": [
       "[1, 4]"
      ]
     },
     "execution_count": 20,
     "metadata": {},
     "output_type": "execute_result"
    }
   ],
   "source": [
    "lista1 = [1,2,4,5]\n",
    "lista2 = [3,4,1]\n",
    "gen_lista(lista1, lista2)"
   ]
  },
  {
   "cell_type": "markdown",
   "metadata": {},
   "source": [
    "- Escribe una funcion que construya el siguiente patron:  \n",
    "1  \n",
    "22  \n",
    "333  \n",
    "4444  \n",
    "55555  \n",
    "666666  \n",
    "7777777  \n",
    "88888888  \n",
    "999999999  "
   ]
  },
  {
   "cell_type": "code",
   "execution_count": 2,
   "metadata": {
    "collapsed": false
   },
   "outputs": [
    {
     "name": "stdout",
     "output_type": "stream",
     "text": [
      "\n",
      "1\n",
      "22\n",
      "333\n",
      "4444\n",
      "55555\n",
      "666666\n",
      "7777777\n",
      "88888888\n",
      "999999999\n"
     ]
    }
   ],
   "source": [
    "for i in range(10):\n",
    "    print str(i)*i"
   ]
  },
  {
   "cell_type": "markdown",
   "metadata": {},
   "source": [
    "- Dado el siguiente diccionario:  \n",
    "  \n",
    "inventory = {  \n",
    "    'oro' : 500,  \n",
    "    'bolsa' : ['piedra', 'joya'],  \n",
    "    'mochila' : ['xilofono','daga', 'rollo','pan']  \n",
    "}\n",
    "\n",
    "    - Añade un key llamado \"billetera\"\n",
    "    - Los valores de billetera será \"monedas\",\"billetes\"\n",
    "    - REaliza un sort de los items dentro de la llave mochila\n",
    "    - Elimina el valor \"daga\" \n",
    "    - Añade el valor de 50 en la llave de oro"
   ]
  },
  {
   "cell_type": "markdown",
   "metadata": {},
   "source": [
    "- Crea dos dictionarios:  \n",
    "\n",
    "stock = {  \n",
    "    \"platano\": 6,  \n",
    "    \"manzana\": 0,  \n",
    "    \"naranja\": 32,  \n",
    "    \"pera\": 15,  \n",
    "    \"mandarina\":0,  \n",
    "}  \n",
    "\n",
    "\n",
    "prices = {  \n",
    "    \"platano\": 4,  \n",
    "    \"manzana\": 2,  \n",
    "    \"naranja\": 1.5,  \n",
    "    \"pera\": 3,  \n",
    "    \"mandarina\": 2,  \n",
    "}  \n",
    "\n",
    "Crea una funcion llamada \"total\" que tome como argumento el nombre de la fruta. El output de la funcion sera el precio por el stock de la fruta. Si la fruta no tiene precio ni stock, deberá de decir: \"No hay la fruta en el almacen\". Si no existe stock de la fruta debera de decir: \"no se tiene stock de la fruta\""
   ]
  },
  {
   "cell_type": "markdown",
   "metadata": {},
   "source": [
    "Scrabble es un juego donde los jugadores les dan puntos por palabras. Las palabras tiene un score que se calcula sumando el valor de las letras. Define una funcion donde el argumento sea una palabra y retorne el valor de la palabra. Para calcular el valor usa el siguiente diccionario:\n",
    "\n",
    "score = {\"a\": 1, \"c\": 3, \"b\": 3, \"e\": 1, \"d\": 2, \"g\": 2,  \n",
    "         \"f\": 4, \"i\": 1, \"h\": 4, \"k\": 5, \"j\": 8, \"m\": 3,  \n",
    "         \"l\": 1, \"o\": 1, \"n\": 1, \"q\": 10, \"p\": 3, \"s\": 1,  \n",
    "         \"r\": 1, \"u\": 1, \"t\": 1, \"w\": 4, \"v\": 4, \"y\": 4,  \n",
    "         \"x\": 8, \"z\": 10}"
   ]
  },
  {
   "cell_type": "markdown",
   "metadata": {},
   "source": [
    "- En la carpeta adjunta (pdfs) se encuentran 50 pdfs con CVs (Curriculum Vitae) de distintas personas. El objetivo es que extraigas información de estos documentos. En general, estos pdfs tienen información sobre: Nombre, email, Ultima Experiencia (puesto, empresa y periodo) y educación (carrera y universidad). Intenta extraer la información como tu quieras, en listas, diccionarios y otros. Luego de extraer toda la información deberás de obtener dos \"insights\" sobre la información que se encuentra en los pdfs."
   ]
  }
 ],
 "metadata": {
  "kernelspec": {
   "display_name": "Python 2",
   "language": "python",
   "name": "python2"
  },
  "language_info": {
   "codemirror_mode": {
    "name": "ipython",
    "version": 2
   },
   "file_extension": ".py",
   "mimetype": "text/x-python",
   "name": "python",
   "nbconvert_exporter": "python",
   "pygments_lexer": "ipython2",
   "version": "2.7.13"
  }
 },
 "nbformat": 4,
 "nbformat_minor": 0
}
